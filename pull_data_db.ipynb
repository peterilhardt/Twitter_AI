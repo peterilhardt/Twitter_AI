{
 "cells": [
  {
   "cell_type": "code",
   "execution_count": 1,
   "metadata": {},
   "outputs": [],
   "source": [
    "from pymongo import MongoClient\n",
    "import numpy as np\n",
    "import pandas as pd\n",
    "\n",
    "from twitter_api_functions import tweets_db_to_df"
   ]
  },
  {
   "cell_type": "code",
   "execution_count": 2,
   "metadata": {},
   "outputs": [
    {
     "data": {
      "text/plain": [
       "['admin', 'books', 'config', 'local', 'outings', 'twitter']"
      ]
     },
     "execution_count": 2,
     "metadata": {},
     "output_type": "execute_result"
    }
   ],
   "source": [
    "# open MongoDB daemon and connect with pymongo\n",
    "\n",
    "#!mongod\n",
    "client = MongoClient()\n",
    "client.list_database_names()"
   ]
  },
  {
   "cell_type": "code",
   "execution_count": 3,
   "metadata": {},
   "outputs": [
    {
     "data": {
      "text/plain": [
       "['tweets_2019_large', 'tweets_all_years']"
      ]
     },
     "execution_count": 3,
     "metadata": {},
     "output_type": "execute_result"
    }
   ],
   "source": [
    "twitter = client.twitter\n",
    "twitter.list_collection_names()"
   ]
  },
  {
   "cell_type": "code",
   "execution_count": 4,
   "metadata": {},
   "outputs": [
    {
     "name": "stdout",
     "output_type": "stream",
     "text": [
      "5460\n",
      "23864\n"
     ]
    }
   ],
   "source": [
    "all_years = twitter.tweets_all_years\n",
    "large_2019 = twitter.tweets_2019_large\n",
    "\n",
    "print(all_years.count_documents({}))  # number of tweets in collection\n",
    "print(large_2019.count_documents({}))"
   ]
  },
  {
   "cell_type": "code",
   "execution_count": 5,
   "metadata": {},
   "outputs": [
    {
     "data": {
      "text/plain": [
       "[{'id': 544845252,\n",
       "  'text': 'Anyone involved in artificial intelligence work? Specifically, anyone know of any AI system that can RECOGNISE puns in natural language?',\n",
       "  'user': {'location': 'Malham Close, Crawley, West Su'},\n",
       "  'year': 2007},\n",
       " {'id': 532130162,\n",
       "  'text': '読書中 Paradigms of Artificial Intelligence Programming: Case Studies in Common Lisp',\n",
       "  'user': {'location': 'JP (Japan, Japan)'},\n",
       "  'year': 2007},\n",
       " {'id': 531926162,\n",
       "  'text': 'Update on geekgirl LOVE AND SEX WITH ROBOTS: If advances in artificial intelligence cont.. http://tinyurl.com/2vykx7',\n",
       "  'user': {'location': 'Melbourne'},\n",
       "  'year': 2007},\n",
       " {'id': 524153882,\n",
       "  'text': '\"A.I. Artificial Intelligence\" a Speilberg movie based on a Brian Aldiss  short story is very creepy.  Like it mo\\' better than \"I Robot.\"',\n",
       "  'user': {'location': 'Barsoom!'},\n",
       "  'year': 2007},\n",
       " {'id': 523822582,\n",
       "  'text': 'Paradigms of Artificial Intelligence Programming を注文した♪',\n",
       "  'user': {'location': 'JP (Japan, Japan)'},\n",
       "  'year': 2007}]"
      ]
     },
     "execution_count": 5,
     "metadata": {},
     "output_type": "execute_result"
    }
   ],
   "source": [
    "# display ID, tweet text, year, and location for first 5 2007 tweets\n",
    "cursor = all_years.find({'year': 2007}, {'_id': 0, 'id': 1, 'text': 1, 'year': 1, 'user.location': 1})\n",
    "list(cursor.limit(5))"
   ]
  },
  {
   "cell_type": "code",
   "execution_count": 6,
   "metadata": {},
   "outputs": [
    {
     "data": {
      "text/plain": [
       "[{'id': 1161789559715196928,\n",
       "  'text': 'RT @rising_serpent: Once you combine this gigantic amorphous mass of the human gene code with artificial intelligence programming, the resu…',\n",
       "  'user': {'location': None},\n",
       "  'retweeted_status': {'extended_tweet': {'full_text': \"Once you combine this gigantic amorphous mass of the human gene code with artificial intelligence programming, the results are far beyond the capacity of my meager imagination.\\nI've ranted enough. Gotta go earn a living so that the government can give my money away.\\n-Fin\"}},\n",
       "  'year': 2019},\n",
       " {'id': 1161789531328319488,\n",
       "  'text': 'RT @UiPath: Do you believe in the power of #AI education? Then vote to bring UiPath panel to #SXSWEDU 2020 and together with @ByteBackDC, @…',\n",
       "  'user': {'location': None},\n",
       "  'retweeted_status': {'extended_tweet': {'full_text': 'Do you believe in the power of #AI education? Then vote to bring UiPath panel to #SXSWEDU 2020 and together with @ByteBackDC, @EdSurge and @PerScholas we’ll address the most pressing reskilling challenges and opportunities - https://t.co/uu2ladbh1X.'}},\n",
       "  'year': 2019},\n",
       " {'id': 1161789508771336195,\n",
       "  'text': 'RT MikeQuindazzi: 7 #AI terms in the #FutureofWork  &gt;&gt;&gt; welcomeai via MikeQuindazzi &gt;&gt;&gt; #ANN #MachineLearning… https://t.co/Kt2udJLY8j',\n",
       "  'user': {'location': 'Bordeaux, France'},\n",
       "  'year': 2019},\n",
       " {'id': 1161789506426671104,\n",
       "  'text': 'RT @Microsoft: What if technology could help you be anywhere you need to be and speak any language? From the #MSInspire stage, @JulWhite sh…',\n",
       "  'user': {'location': 'Santiago, Chile'},\n",
       "  'retweeted_status': {'extended_tweet': {'full_text': 'What if technology could help you be anywhere you need to be and speak any language? From the #MSInspire stage, @JulWhite shared how #AI and holograms make it possible. https://t.co/Jamcey81Sr'}},\n",
       "  'year': 2019},\n",
       " {'id': 1161789505889820672,\n",
       "  'text': 'RT MikeQuindazzi: #BigData sets unlocking $45 billion of value by 2023 &gt;&gt;&gt; #PwC via MikeQuindazzi &gt;&gt;&gt; #AI… https://t.co/sBcJXOjPWS',\n",
       "  'user': {'location': 'Bordeaux, France'},\n",
       "  'year': 2019}]"
      ]
     },
     "execution_count": 6,
     "metadata": {},
     "output_type": "execute_result"
    }
   ],
   "source": [
    "# show first 5 2019 tweets (truncated and full text)\n",
    "cursor = all_years.find({'year': 2019}, {'_id': 0, 'id': 1, 'text': 1, 'year': 1, 'user.location': 1, \n",
    "                                         'retweeted_status.extended_tweet.full_text': 1})\n",
    "list(cursor.limit(5))"
   ]
  },
  {
   "cell_type": "code",
   "execution_count": 7,
   "metadata": {},
   "outputs": [
    {
     "name": "stderr",
     "output_type": "stream",
     "text": [
      "/anaconda3/lib/python3.7/site-packages/ipykernel_launcher.py:3: DeprecationWarning: count is deprecated. Use Collection.count_documents instead.\n",
      "  This is separate from the ipykernel package so we can avoid doing imports until\n"
     ]
    },
    {
     "data": {
      "text/plain": [
       "15"
      ]
     },
     "execution_count": 7,
     "metadata": {},
     "output_type": "execute_result"
    }
   ],
   "source": [
    "# only 15 tweets in 'all_years' collection have geocodes\n",
    "cursor = all_years.find({'geo': {'$ne': None}}, {'_id': 0, 'geo': 1, 'text': 1})\n",
    "cursor.count()"
   ]
  },
  {
   "cell_type": "code",
   "execution_count": 8,
   "metadata": {},
   "outputs": [
    {
     "name": "stdout",
     "output_type": "stream",
     "text": [
      "(5460, 4)\n"
     ]
    },
    {
     "data": {
      "text/html": [
       "<div>\n",
       "<style scoped>\n",
       "    .dataframe tbody tr th:only-of-type {\n",
       "        vertical-align: middle;\n",
       "    }\n",
       "\n",
       "    .dataframe tbody tr th {\n",
       "        vertical-align: top;\n",
       "    }\n",
       "\n",
       "    .dataframe thead th {\n",
       "        text-align: right;\n",
       "    }\n",
       "</style>\n",
       "<table border=\"1\" class=\"dataframe\">\n",
       "  <thead>\n",
       "    <tr style=\"text-align: right;\">\n",
       "      <th></th>\n",
       "      <th>ID</th>\n",
       "      <th>location</th>\n",
       "      <th>text</th>\n",
       "      <th>year</th>\n",
       "    </tr>\n",
       "  </thead>\n",
       "  <tbody>\n",
       "    <tr>\n",
       "      <th>0</th>\n",
       "      <td>544845252</td>\n",
       "      <td>Malham Close, Crawley, West Su</td>\n",
       "      <td>Anyone involved in artificial intelligence wor...</td>\n",
       "      <td>2007</td>\n",
       "    </tr>\n",
       "    <tr>\n",
       "      <th>1</th>\n",
       "      <td>532130162</td>\n",
       "      <td>JP (Japan, Japan)</td>\n",
       "      <td>読書中 Paradigms of Artificial Intelligence Progr...</td>\n",
       "      <td>2007</td>\n",
       "    </tr>\n",
       "    <tr>\n",
       "      <th>2</th>\n",
       "      <td>531926162</td>\n",
       "      <td>Melbourne</td>\n",
       "      <td>Update on geekgirl LOVE AND SEX WITH ROBOTS: I...</td>\n",
       "      <td>2007</td>\n",
       "    </tr>\n",
       "    <tr>\n",
       "      <th>3</th>\n",
       "      <td>524153882</td>\n",
       "      <td>Barsoom!</td>\n",
       "      <td>\"A.I. Artificial Intelligence\" a Speilberg mov...</td>\n",
       "      <td>2007</td>\n",
       "    </tr>\n",
       "    <tr>\n",
       "      <th>4</th>\n",
       "      <td>523822582</td>\n",
       "      <td>JP (Japan, Japan)</td>\n",
       "      <td>Paradigms of Artificial Intelligence Programmi...</td>\n",
       "      <td>2007</td>\n",
       "    </tr>\n",
       "  </tbody>\n",
       "</table>\n",
       "</div>"
      ],
      "text/plain": [
       "          ID                        location  \\\n",
       "0  544845252  Malham Close, Crawley, West Su   \n",
       "1  532130162               JP (Japan, Japan)   \n",
       "2  531926162                       Melbourne   \n",
       "3  524153882                        Barsoom!   \n",
       "4  523822582               JP (Japan, Japan)   \n",
       "\n",
       "                                                text  year  \n",
       "0  Anyone involved in artificial intelligence wor...  2007  \n",
       "1  読書中 Paradigms of Artificial Intelligence Progr...  2007  \n",
       "2  Update on geekgirl LOVE AND SEX WITH ROBOTS: I...  2007  \n",
       "3  \"A.I. Artificial Intelligence\" a Speilberg mov...  2007  \n",
       "4  Paradigms of Artificial Intelligence Programmi...  2007  "
      ]
     },
     "execution_count": 8,
     "metadata": {},
     "output_type": "execute_result"
    }
   ],
   "source": [
    "# query 'all_years' tweets from database and compile in DataFrame\n",
    "all_years_df = tweets_db_to_df(all_years)\n",
    "print(all_years_df.shape)\n",
    "all_years_df.head()"
   ]
  },
  {
   "cell_type": "code",
   "execution_count": 9,
   "metadata": {},
   "outputs": [
    {
     "data": {
      "text/plain": [
       "\"Once you combine this gigantic amorphous mass of the human gene code with artificial intelligence programming, the results are far beyond the capacity of my meager imagination.\\nI've ranted enough. Gotta go earn a living so that the government can give my money away.\\n-Fin\""
      ]
     },
     "execution_count": 9,
     "metadata": {},
     "output_type": "execute_result"
    }
   ],
   "source": [
    "# text for first 2019 tweet\n",
    "all_years_df.loc[all_years_df['year'] == 2019].reset_index()['text'][0]"
   ]
  },
  {
   "cell_type": "code",
   "execution_count": 10,
   "metadata": {},
   "outputs": [
    {
     "name": "stdout",
     "output_type": "stream",
     "text": [
      "(23864, 4)\n"
     ]
    },
    {
     "data": {
      "text/html": [
       "<div>\n",
       "<style scoped>\n",
       "    .dataframe tbody tr th:only-of-type {\n",
       "        vertical-align: middle;\n",
       "    }\n",
       "\n",
       "    .dataframe tbody tr th {\n",
       "        vertical-align: top;\n",
       "    }\n",
       "\n",
       "    .dataframe thead th {\n",
       "        text-align: right;\n",
       "    }\n",
       "</style>\n",
       "<table border=\"1\" class=\"dataframe\">\n",
       "  <thead>\n",
       "    <tr style=\"text-align: right;\">\n",
       "      <th></th>\n",
       "      <th>ID</th>\n",
       "      <th>location</th>\n",
       "      <th>text</th>\n",
       "      <th>year</th>\n",
       "    </tr>\n",
       "  </thead>\n",
       "  <tbody>\n",
       "    <tr>\n",
       "      <th>0</th>\n",
       "      <td>1161789559715196928</td>\n",
       "      <td>NaN</td>\n",
       "      <td>Once you combine this gigantic amorphous mass ...</td>\n",
       "      <td>2019</td>\n",
       "    </tr>\n",
       "    <tr>\n",
       "      <th>1</th>\n",
       "      <td>1161789531328319488</td>\n",
       "      <td>NaN</td>\n",
       "      <td>Do you believe in the power of #AI education? ...</td>\n",
       "      <td>2019</td>\n",
       "    </tr>\n",
       "    <tr>\n",
       "      <th>2</th>\n",
       "      <td>1161789508771336195</td>\n",
       "      <td>Bordeaux, France</td>\n",
       "      <td>RT MikeQuindazzi: 7 #AI terms in the #Futureof...</td>\n",
       "      <td>2019</td>\n",
       "    </tr>\n",
       "    <tr>\n",
       "      <th>3</th>\n",
       "      <td>1161789506426671104</td>\n",
       "      <td>Santiago, Chile</td>\n",
       "      <td>What if technology could help you be anywhere ...</td>\n",
       "      <td>2019</td>\n",
       "    </tr>\n",
       "    <tr>\n",
       "      <th>4</th>\n",
       "      <td>1161789505889820672</td>\n",
       "      <td>Bordeaux, France</td>\n",
       "      <td>RT MikeQuindazzi: #BigData sets unlocking $45 ...</td>\n",
       "      <td>2019</td>\n",
       "    </tr>\n",
       "  </tbody>\n",
       "</table>\n",
       "</div>"
      ],
      "text/plain": [
       "                    ID          location  \\\n",
       "0  1161789559715196928               NaN   \n",
       "1  1161789531328319488               NaN   \n",
       "2  1161789508771336195  Bordeaux, France   \n",
       "3  1161789506426671104   Santiago, Chile   \n",
       "4  1161789505889820672  Bordeaux, France   \n",
       "\n",
       "                                                text  year  \n",
       "0  Once you combine this gigantic amorphous mass ...  2019  \n",
       "1  Do you believe in the power of #AI education? ...  2019  \n",
       "2  RT MikeQuindazzi: 7 #AI terms in the #Futureof...  2019  \n",
       "3  What if technology could help you be anywhere ...  2019  \n",
       "4  RT MikeQuindazzi: #BigData sets unlocking $45 ...  2019  "
      ]
     },
     "execution_count": 10,
     "metadata": {},
     "output_type": "execute_result"
    }
   ],
   "source": [
    "# query 'large_2019' tweets from database and compile in DataFrame\n",
    "large_2019_df = tweets_db_to_df(large_2019)\n",
    "print(large_2019_df.shape)\n",
    "large_2019_df.head()"
   ]
  },
  {
   "cell_type": "code",
   "execution_count": 122,
   "metadata": {},
   "outputs": [],
   "source": [
    "# save DataFrames\n",
    "large_2019_df.to_pickle('tweets_2019_large_df_reduced.pickle')\n",
    "all_years_df.to_pickle('tweets_all_years_df_reduced.pickle')"
   ]
  }
 ],
 "metadata": {
  "kernelspec": {
   "display_name": "Python 3",
   "language": "python",
   "name": "python3"
  },
  "language_info": {
   "codemirror_mode": {
    "name": "ipython",
    "version": 3
   },
   "file_extension": ".py",
   "mimetype": "text/x-python",
   "name": "python",
   "nbconvert_exporter": "python",
   "pygments_lexer": "ipython3",
   "version": "3.7.3"
  }
 },
 "nbformat": 4,
 "nbformat_minor": 2
}
